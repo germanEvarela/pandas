{
  "nbformat": 4,
  "nbformat_minor": 0,
  "metadata": {
    "colab": {
      "provenance": [],
      "authorship_tag": "ABX9TyMAehdOe8fHX2dMoZrm4raB",
      "include_colab_link": true
    },
    "kernelspec": {
      "name": "python3",
      "display_name": "Python 3"
    },
    "language_info": {
      "name": "python"
    }
  },
  "cells": [
    {
      "cell_type": "markdown",
      "metadata": {
        "id": "view-in-github",
        "colab_type": "text"
      },
      "source": [
        "<a href=\"https://colab.research.google.com/github/germanEvarela/pandas/blob/main/ScrapingBeautifulSoup.ipynb\" target=\"_parent\"><img src=\"https://colab.research.google.com/assets/colab-badge.svg\" alt=\"Open In Colab\"/></a>"
      ]
    },
    {
      "cell_type": "code",
      "source": [
        "!pip install bs4"
      ],
      "metadata": {
        "id": "sYCHSnjbgRjc"
      },
      "execution_count": null,
      "outputs": []
    },
    {
      "cell_type": "code",
      "source": [
        "!pip install Beautifulsoup4"
      ],
      "metadata": {
        "id": "qK2y7gxzgchG"
      },
      "execution_count": null,
      "outputs": []
    },
    {
      "cell_type": "code",
      "execution_count": 49,
      "metadata": {
        "id": "sjDBcSbBc7Y_"
      },
      "outputs": [],
      "source": [
        "import requests\n",
        "import bs4\n",
        "from bs4 import BeautifulSoup\n",
        "from urllib.parse import urljoin\n",
        "import pandas as pd"
      ]
    },
    {
      "cell_type": "code",
      "source": [
        "url_inicial = 'https://books.toscrape.com/index.html'\n",
        "url_root = 'https://books.toscrape.com/index.html'"
      ],
      "metadata": {
        "id": "5hIhPQrXd1Qz"
      },
      "execution_count": 50,
      "outputs": []
    },
    {
      "cell_type": "code",
      "source": [
        "r = requests.get(url_inicial)"
      ],
      "metadata": {
        "id": "HZ9uRj1weHt-"
      },
      "execution_count": 51,
      "outputs": []
    },
    {
      "cell_type": "code",
      "source": [
        "r.status_code"
      ],
      "metadata": {
        "colab": {
          "base_uri": "https://localhost:8080/"
        },
        "id": "iSw69H9VeTJZ",
        "outputId": "6301d950-9cfd-469c-e3ed-7a6649c52a4a"
      },
      "execution_count": 52,
      "outputs": [
        {
          "output_type": "execute_result",
          "data": {
            "text/plain": [
              "200"
            ]
          },
          "metadata": {},
          "execution_count": 52
        }
      ]
    },
    {
      "cell_type": "code",
      "source": [
        "s = BeautifulSoup(r.text,'lxml')\n"
      ],
      "metadata": {
        "id": "iA_RDs0Ghg3x"
      },
      "execution_count": 53,
      "outputs": []
    },
    {
      "cell_type": "code",
      "source": [
        "lista_article = s.find_all('article', class_ ='product_pod')\n",
        "links_libros = [x.find('h3').find('a').get('href') for x in lista_article]\n",
        "links_libros = [urljoin(url_root, i) for i in links_libros]\n",
        "links_libros"
      ],
      "metadata": {
        "id": "72o8oocajeMQ"
      },
      "execution_count": null,
      "outputs": []
    },
    {
      "cell_type": "code",
      "source": [
        "# funcion de obtener links\n",
        "def get_url_items(sopa, url):\n",
        "    url_root = 'https://books.toscrape.com/index.html'\n",
        "    lista_article = s.find_all('article', class_ ='product_pod')\n",
        "    links_libros = [x.find('h3').find('a').get('href') for x in lista_article]\n",
        "    links_libros = [urljoin(url_root, i) for i in links_libros]\n",
        "    return links_libros\n",
        "\n"
      ],
      "metadata": {
        "id": "6pGTo-jTk1Yp"
      },
      "execution_count": 55,
      "outputs": []
    },
    {
      "cell_type": "code",
      "source": [
        "links_items = []\n",
        "i = 0\n",
        "while i<50:\n",
        "    i+=1\n",
        "    print(f'Estoy en la pagina {url_inicial}')\n",
        "    r_pag = requests.get(url_inicial)\n",
        "    s_pag = BeautifulSoup(r_pag.text,'lxml')\n",
        "    links = get_url_items(s_pag, url_inicial)\n",
        "    next_a = s_pag.select('li.next > a')\n",
        "    if not next_a or not next_a[0].get('href'):\n",
        "        break\n",
        "    url_inicial = urljoin(url_inicial, next_a[0].get('href'))\n",
        "    links_items.append(links)\n"
      ],
      "metadata": {
        "colab": {
          "base_uri": "https://localhost:8080/"
        },
        "id": "Mgf0y7zdoaOq",
        "outputId": "6112283a-4d1c-4646-c094-3f54863d8e1a"
      },
      "execution_count": 56,
      "outputs": [
        {
          "output_type": "stream",
          "name": "stdout",
          "text": [
            "Estoy en la pagina https://books.toscrape.com/index.html\n",
            "Estoy en la pagina https://books.toscrape.com/catalogue/page-2.html\n",
            "Estoy en la pagina https://books.toscrape.com/catalogue/page-3.html\n",
            "Estoy en la pagina https://books.toscrape.com/catalogue/page-4.html\n",
            "Estoy en la pagina https://books.toscrape.com/catalogue/page-5.html\n",
            "Estoy en la pagina https://books.toscrape.com/catalogue/page-6.html\n",
            "Estoy en la pagina https://books.toscrape.com/catalogue/page-7.html\n",
            "Estoy en la pagina https://books.toscrape.com/catalogue/page-8.html\n",
            "Estoy en la pagina https://books.toscrape.com/catalogue/page-9.html\n",
            "Estoy en la pagina https://books.toscrape.com/catalogue/page-10.html\n",
            "Estoy en la pagina https://books.toscrape.com/catalogue/page-11.html\n",
            "Estoy en la pagina https://books.toscrape.com/catalogue/page-12.html\n",
            "Estoy en la pagina https://books.toscrape.com/catalogue/page-13.html\n",
            "Estoy en la pagina https://books.toscrape.com/catalogue/page-14.html\n",
            "Estoy en la pagina https://books.toscrape.com/catalogue/page-15.html\n",
            "Estoy en la pagina https://books.toscrape.com/catalogue/page-16.html\n",
            "Estoy en la pagina https://books.toscrape.com/catalogue/page-17.html\n",
            "Estoy en la pagina https://books.toscrape.com/catalogue/page-18.html\n",
            "Estoy en la pagina https://books.toscrape.com/catalogue/page-19.html\n",
            "Estoy en la pagina https://books.toscrape.com/catalogue/page-20.html\n",
            "Estoy en la pagina https://books.toscrape.com/catalogue/page-21.html\n",
            "Estoy en la pagina https://books.toscrape.com/catalogue/page-22.html\n",
            "Estoy en la pagina https://books.toscrape.com/catalogue/page-23.html\n",
            "Estoy en la pagina https://books.toscrape.com/catalogue/page-24.html\n",
            "Estoy en la pagina https://books.toscrape.com/catalogue/page-25.html\n",
            "Estoy en la pagina https://books.toscrape.com/catalogue/page-26.html\n",
            "Estoy en la pagina https://books.toscrape.com/catalogue/page-27.html\n",
            "Estoy en la pagina https://books.toscrape.com/catalogue/page-28.html\n",
            "Estoy en la pagina https://books.toscrape.com/catalogue/page-29.html\n",
            "Estoy en la pagina https://books.toscrape.com/catalogue/page-30.html\n",
            "Estoy en la pagina https://books.toscrape.com/catalogue/page-31.html\n",
            "Estoy en la pagina https://books.toscrape.com/catalogue/page-32.html\n",
            "Estoy en la pagina https://books.toscrape.com/catalogue/page-33.html\n",
            "Estoy en la pagina https://books.toscrape.com/catalogue/page-34.html\n",
            "Estoy en la pagina https://books.toscrape.com/catalogue/page-35.html\n",
            "Estoy en la pagina https://books.toscrape.com/catalogue/page-36.html\n",
            "Estoy en la pagina https://books.toscrape.com/catalogue/page-37.html\n",
            "Estoy en la pagina https://books.toscrape.com/catalogue/page-38.html\n",
            "Estoy en la pagina https://books.toscrape.com/catalogue/page-39.html\n",
            "Estoy en la pagina https://books.toscrape.com/catalogue/page-40.html\n",
            "Estoy en la pagina https://books.toscrape.com/catalogue/page-41.html\n",
            "Estoy en la pagina https://books.toscrape.com/catalogue/page-42.html\n",
            "Estoy en la pagina https://books.toscrape.com/catalogue/page-43.html\n",
            "Estoy en la pagina https://books.toscrape.com/catalogue/page-44.html\n",
            "Estoy en la pagina https://books.toscrape.com/catalogue/page-45.html\n",
            "Estoy en la pagina https://books.toscrape.com/catalogue/page-46.html\n",
            "Estoy en la pagina https://books.toscrape.com/catalogue/page-47.html\n",
            "Estoy en la pagina https://books.toscrape.com/catalogue/page-48.html\n",
            "Estoy en la pagina https://books.toscrape.com/catalogue/page-49.html\n",
            "Estoy en la pagina https://books.toscrape.com/catalogue/page-50.html\n"
          ]
        }
      ]
    },
    {
      "cell_type": "code",
      "source": [
        "links_items"
      ],
      "metadata": {
        "id": "umMe3c0twNwA"
      },
      "execution_count": null,
      "outputs": []
    },
    {
      "cell_type": "code",
      "source": [
        "len(links_items)"
      ],
      "metadata": {
        "colab": {
          "base_uri": "https://localhost:8080/"
        },
        "id": "WIyfCLmywR94",
        "outputId": "d6f5ad2c-50f8-4655-9e28-c089f6d0ce2a"
      },
      "execution_count": 58,
      "outputs": [
        {
          "output_type": "execute_result",
          "data": {
            "text/plain": [
              "49"
            ]
          },
          "metadata": {},
          "execution_count": 58
        }
      ]
    },
    {
      "cell_type": "code",
      "source": [
        "list_scraper = []\n",
        "for i in links_items:\n",
        "    for j in i:\n",
        "        list_scraper.append(j)\n",
        "len(list_scraper)"
      ],
      "metadata": {
        "colab": {
          "base_uri": "https://localhost:8080/"
        },
        "id": "19fRrZITwc3V",
        "outputId": "49350a51-9b92-461d-b74a-7b53dacd4652"
      },
      "execution_count": 59,
      "outputs": [
        {
          "output_type": "execute_result",
          "data": {
            "text/plain": [
              "980"
            ]
          },
          "metadata": {},
          "execution_count": 59
        }
      ]
    },
    {
      "cell_type": "code",
      "source": [
        "uno = list_scraper[0]\n",
        "r_item = requests.get(uno)\n",
        "s_item = BeautifulSoup(r_item.text, 'lxml')"
      ],
      "metadata": {
        "id": "_He0eC5ExXTS"
      },
      "execution_count": 60,
      "outputs": []
    },
    {
      "cell_type": "code",
      "source": [
        "from IPython.display import Image"
      ],
      "metadata": {
        "id": "c-hnTTtsMMFU"
      },
      "execution_count": 76,
      "outputs": []
    },
    {
      "cell_type": "code",
      "source": [
        "# titulo del libro\n",
        "titulo = s_item.find('h1').get_text(strip=True)\n",
        "\n",
        "# obtener precio\n",
        "precio = s_item.find('p', class_='price_color').get_text(strip=True)\n",
        "\n",
        "# obtener descripcion\n",
        "#ancla_desc = s_item.find('div', id='Product Description')\n",
        "#ancla_desc.find_next_sibling('p').get_text(strip=True)\n",
        "\n",
        "# obtener imagen\n",
        "src_img = s_item.find('div', class_='item active').find('img').get('src')\n",
        "src_img = urljoin(url_root, src_img)\n",
        "Image(requests.get(src_img).content)\n",
        "\n"
      ],
      "metadata": {
        "id": "KNtdbcExyB_2"
      },
      "execution_count": null,
      "outputs": []
    },
    {
      "cell_type": "code",
      "source": [
        "# funcion para iniciar el escraper de cada libro\n",
        "def scraper_book(url):\n",
        "    content_book = {}\n",
        "    r = requests.get(url)\n",
        "    s_item = BeautifulSoup(r.text, 'lxml')\n",
        "    titulo = s_item.find('h1').get_text(strip=True)\n",
        "    if titulo:\n",
        "        content_book['Titulo'] = titulo\n",
        "    else:\n",
        "        content_book['Titulo'] = None\n",
        "    precio = s_item.find('p', class_='price_color').get_text(strip=True)\n",
        "    if precio:\n",
        "        content_book['Precio'] = precio\n",
        "    else:\n",
        "        content_book['Precio'] = None\n",
        "    src_img = s_item.find('div', class_='item active').find('img').get('src')\n",
        "    if src_img:\n",
        "        content_book['Url_img'] = urljoin(url_root, src_img)\n",
        "    else:\n",
        "        content_book['Url_img'] = None\n",
        "    return content_book\n",
        "\n"
      ],
      "metadata": {
        "id": "kFVgPhwiNE22"
      },
      "execution_count": 80,
      "outputs": []
    },
    {
      "cell_type": "code",
      "source": [
        "list_scraper = list_scraper[0:10]\n",
        "datos_book = []\n",
        "for idx, i in enumerate(list_scraper):\n",
        "    print(f'estas escrapeando la pag {idx}')\n",
        "    datos_book.append(scraper_book(i))"
      ],
      "metadata": {
        "colab": {
          "base_uri": "https://localhost:8080/"
        },
        "id": "nz6IWFqaP2Sz",
        "outputId": "a2991cf1-3223-49a5-db8a-d6f8f4fe9e25"
      },
      "execution_count": 81,
      "outputs": [
        {
          "output_type": "stream",
          "name": "stdout",
          "text": [
            "estas escrapeando la pag 0\n",
            "estas escrapeando la pag 1\n",
            "estas escrapeando la pag 2\n",
            "estas escrapeando la pag 3\n",
            "estas escrapeando la pag 4\n",
            "estas escrapeando la pag 5\n",
            "estas escrapeando la pag 6\n",
            "estas escrapeando la pag 7\n",
            "estas escrapeando la pag 8\n",
            "estas escrapeando la pag 9\n"
          ]
        }
      ]
    },
    {
      "cell_type": "code",
      "source": [
        "datos_book"
      ],
      "metadata": {
        "id": "IFIjQfy4RLpn"
      },
      "execution_count": null,
      "outputs": []
    },
    {
      "cell_type": "code",
      "source": [
        "df_catalogo = pd.DataFrame(datos_book)\n",
        "df_catalogo"
      ],
      "metadata": {
        "colab": {
          "base_uri": "https://localhost:8080/",
          "height": 363
        },
        "id": "sqJwUIf6RVgB",
        "outputId": "38dbca07-0080-4c7d-d077-fa892b05f90a"
      },
      "execution_count": 83,
      "outputs": [
        {
          "output_type": "execute_result",
          "data": {
            "text/plain": [
              "                                              Titulo   Precio  \\\n",
              "0                               A Light in the Attic  Â£51.77   \n",
              "1                                 Tipping the Velvet  Â£53.74   \n",
              "2                                         Soumission  Â£50.10   \n",
              "3                                      Sharp Objects  Â£47.82   \n",
              "4              Sapiens: A Brief History of Humankind  Â£54.23   \n",
              "5                                    The Requiem Red  Â£22.65   \n",
              "6  The Dirty Little Secrets of Getting Your Dream...  Â£33.34   \n",
              "7  The Coming Woman: A Novel Based on the Life of...  Â£17.93   \n",
              "8  The Boys in the Boat: Nine Americans and Their...  Â£22.60   \n",
              "9                                    The Black Maria  Â£52.15   \n",
              "\n",
              "                                             Url_img  \n",
              "0  https://books.toscrape.com/media/cache/fe/72/f...  \n",
              "1  https://books.toscrape.com/media/cache/08/e9/0...  \n",
              "2  https://books.toscrape.com/media/cache/ee/cf/e...  \n",
              "3  https://books.toscrape.com/media/cache/c0/59/c...  \n",
              "4  https://books.toscrape.com/media/cache/ce/5f/c...  \n",
              "5  https://books.toscrape.com/media/cache/6b/07/6...  \n",
              "6  https://books.toscrape.com/media/cache/e1/1b/e...  \n",
              "7  https://books.toscrape.com/media/cache/97/36/9...  \n",
              "8  https://books.toscrape.com/media/cache/d1/2d/d...  \n",
              "9  https://books.toscrape.com/media/cache/d1/7a/d...  "
            ],
            "text/html": [
              "\n",
              "  <div id=\"df-6d72776e-06b2-4719-9d77-fe954f2d514c\">\n",
              "    <div class=\"colab-df-container\">\n",
              "      <div>\n",
              "<style scoped>\n",
              "    .dataframe tbody tr th:only-of-type {\n",
              "        vertical-align: middle;\n",
              "    }\n",
              "\n",
              "    .dataframe tbody tr th {\n",
              "        vertical-align: top;\n",
              "    }\n",
              "\n",
              "    .dataframe thead th {\n",
              "        text-align: right;\n",
              "    }\n",
              "</style>\n",
              "<table border=\"1\" class=\"dataframe\">\n",
              "  <thead>\n",
              "    <tr style=\"text-align: right;\">\n",
              "      <th></th>\n",
              "      <th>Titulo</th>\n",
              "      <th>Precio</th>\n",
              "      <th>Url_img</th>\n",
              "    </tr>\n",
              "  </thead>\n",
              "  <tbody>\n",
              "    <tr>\n",
              "      <th>0</th>\n",
              "      <td>A Light in the Attic</td>\n",
              "      <td>Â£51.77</td>\n",
              "      <td>https://books.toscrape.com/media/cache/fe/72/f...</td>\n",
              "    </tr>\n",
              "    <tr>\n",
              "      <th>1</th>\n",
              "      <td>Tipping the Velvet</td>\n",
              "      <td>Â£53.74</td>\n",
              "      <td>https://books.toscrape.com/media/cache/08/e9/0...</td>\n",
              "    </tr>\n",
              "    <tr>\n",
              "      <th>2</th>\n",
              "      <td>Soumission</td>\n",
              "      <td>Â£50.10</td>\n",
              "      <td>https://books.toscrape.com/media/cache/ee/cf/e...</td>\n",
              "    </tr>\n",
              "    <tr>\n",
              "      <th>3</th>\n",
              "      <td>Sharp Objects</td>\n",
              "      <td>Â£47.82</td>\n",
              "      <td>https://books.toscrape.com/media/cache/c0/59/c...</td>\n",
              "    </tr>\n",
              "    <tr>\n",
              "      <th>4</th>\n",
              "      <td>Sapiens: A Brief History of Humankind</td>\n",
              "      <td>Â£54.23</td>\n",
              "      <td>https://books.toscrape.com/media/cache/ce/5f/c...</td>\n",
              "    </tr>\n",
              "    <tr>\n",
              "      <th>5</th>\n",
              "      <td>The Requiem Red</td>\n",
              "      <td>Â£22.65</td>\n",
              "      <td>https://books.toscrape.com/media/cache/6b/07/6...</td>\n",
              "    </tr>\n",
              "    <tr>\n",
              "      <th>6</th>\n",
              "      <td>The Dirty Little Secrets of Getting Your Dream...</td>\n",
              "      <td>Â£33.34</td>\n",
              "      <td>https://books.toscrape.com/media/cache/e1/1b/e...</td>\n",
              "    </tr>\n",
              "    <tr>\n",
              "      <th>7</th>\n",
              "      <td>The Coming Woman: A Novel Based on the Life of...</td>\n",
              "      <td>Â£17.93</td>\n",
              "      <td>https://books.toscrape.com/media/cache/97/36/9...</td>\n",
              "    </tr>\n",
              "    <tr>\n",
              "      <th>8</th>\n",
              "      <td>The Boys in the Boat: Nine Americans and Their...</td>\n",
              "      <td>Â£22.60</td>\n",
              "      <td>https://books.toscrape.com/media/cache/d1/2d/d...</td>\n",
              "    </tr>\n",
              "    <tr>\n",
              "      <th>9</th>\n",
              "      <td>The Black Maria</td>\n",
              "      <td>Â£52.15</td>\n",
              "      <td>https://books.toscrape.com/media/cache/d1/7a/d...</td>\n",
              "    </tr>\n",
              "  </tbody>\n",
              "</table>\n",
              "</div>\n",
              "      <button class=\"colab-df-convert\" onclick=\"convertToInteractive('df-6d72776e-06b2-4719-9d77-fe954f2d514c')\"\n",
              "              title=\"Convert this dataframe to an interactive table.\"\n",
              "              style=\"display:none;\">\n",
              "        \n",
              "  <svg xmlns=\"http://www.w3.org/2000/svg\" height=\"24px\"viewBox=\"0 0 24 24\"\n",
              "       width=\"24px\">\n",
              "    <path d=\"M0 0h24v24H0V0z\" fill=\"none\"/>\n",
              "    <path d=\"M18.56 5.44l.94 2.06.94-2.06 2.06-.94-2.06-.94-.94-2.06-.94 2.06-2.06.94zm-11 1L8.5 8.5l.94-2.06 2.06-.94-2.06-.94L8.5 2.5l-.94 2.06-2.06.94zm10 10l.94 2.06.94-2.06 2.06-.94-2.06-.94-.94-2.06-.94 2.06-2.06.94z\"/><path d=\"M17.41 7.96l-1.37-1.37c-.4-.4-.92-.59-1.43-.59-.52 0-1.04.2-1.43.59L10.3 9.45l-7.72 7.72c-.78.78-.78 2.05 0 2.83L4 21.41c.39.39.9.59 1.41.59.51 0 1.02-.2 1.41-.59l7.78-7.78 2.81-2.81c.8-.78.8-2.07 0-2.86zM5.41 20L4 18.59l7.72-7.72 1.47 1.35L5.41 20z\"/>\n",
              "  </svg>\n",
              "      </button>\n",
              "      \n",
              "  <style>\n",
              "    .colab-df-container {\n",
              "      display:flex;\n",
              "      flex-wrap:wrap;\n",
              "      gap: 12px;\n",
              "    }\n",
              "\n",
              "    .colab-df-convert {\n",
              "      background-color: #E8F0FE;\n",
              "      border: none;\n",
              "      border-radius: 50%;\n",
              "      cursor: pointer;\n",
              "      display: none;\n",
              "      fill: #1967D2;\n",
              "      height: 32px;\n",
              "      padding: 0 0 0 0;\n",
              "      width: 32px;\n",
              "    }\n",
              "\n",
              "    .colab-df-convert:hover {\n",
              "      background-color: #E2EBFA;\n",
              "      box-shadow: 0px 1px 2px rgba(60, 64, 67, 0.3), 0px 1px 3px 1px rgba(60, 64, 67, 0.15);\n",
              "      fill: #174EA6;\n",
              "    }\n",
              "\n",
              "    [theme=dark] .colab-df-convert {\n",
              "      background-color: #3B4455;\n",
              "      fill: #D2E3FC;\n",
              "    }\n",
              "\n",
              "    [theme=dark] .colab-df-convert:hover {\n",
              "      background-color: #434B5C;\n",
              "      box-shadow: 0px 1px 3px 1px rgba(0, 0, 0, 0.15);\n",
              "      filter: drop-shadow(0px 1px 2px rgba(0, 0, 0, 0.3));\n",
              "      fill: #FFFFFF;\n",
              "    }\n",
              "  </style>\n",
              "\n",
              "      <script>\n",
              "        const buttonEl =\n",
              "          document.querySelector('#df-6d72776e-06b2-4719-9d77-fe954f2d514c button.colab-df-convert');\n",
              "        buttonEl.style.display =\n",
              "          google.colab.kernel.accessAllowed ? 'block' : 'none';\n",
              "\n",
              "        async function convertToInteractive(key) {\n",
              "          const element = document.querySelector('#df-6d72776e-06b2-4719-9d77-fe954f2d514c');\n",
              "          const dataTable =\n",
              "            await google.colab.kernel.invokeFunction('convertToInteractive',\n",
              "                                                     [key], {});\n",
              "          if (!dataTable) return;\n",
              "\n",
              "          const docLinkHtml = 'Like what you see? Visit the ' +\n",
              "            '<a target=\"_blank\" href=https://colab.research.google.com/notebooks/data_table.ipynb>data table notebook</a>'\n",
              "            + ' to learn more about interactive tables.';\n",
              "          element.innerHTML = '';\n",
              "          dataTable['output_type'] = 'display_data';\n",
              "          await google.colab.output.renderOutput(dataTable, element);\n",
              "          const docLink = document.createElement('div');\n",
              "          docLink.innerHTML = docLinkHtml;\n",
              "          element.appendChild(docLink);\n",
              "        }\n",
              "      </script>\n",
              "    </div>\n",
              "  </div>\n",
              "  "
            ]
          },
          "metadata": {},
          "execution_count": 83
        }
      ]
    },
    {
      "cell_type": "code",
      "source": [
        "from IPython.core.display import HTML\n",
        "\n",
        "def path_html_img(url):\n",
        "    return '<img src = \"'+ url+'\"width=\"60\">'"
      ],
      "metadata": {
        "id": "E6NPdeDbR5PA"
      },
      "execution_count": 88,
      "outputs": []
    },
    {
      "cell_type": "code",
      "source": [
        "df_catalogo['Vis_img']=df_catalogo['Url_img'].apply(lambda x : path_html_img(x))\n",
        "df_catalogo"
      ],
      "metadata": {
        "colab": {
          "base_uri": "https://localhost:8080/",
          "height": 363
        },
        "id": "t9GfSCS-T-r5",
        "outputId": "9035d4ef-f14f-46ea-b974-cfd6cdb47089"
      },
      "execution_count": 89,
      "outputs": [
        {
          "output_type": "execute_result",
          "data": {
            "text/plain": [
              "                                              Titulo   Precio  \\\n",
              "0                               A Light in the Attic  Â£51.77   \n",
              "1                                 Tipping the Velvet  Â£53.74   \n",
              "2                                         Soumission  Â£50.10   \n",
              "3                                      Sharp Objects  Â£47.82   \n",
              "4              Sapiens: A Brief History of Humankind  Â£54.23   \n",
              "5                                    The Requiem Red  Â£22.65   \n",
              "6  The Dirty Little Secrets of Getting Your Dream...  Â£33.34   \n",
              "7  The Coming Woman: A Novel Based on the Life of...  Â£17.93   \n",
              "8  The Boys in the Boat: Nine Americans and Their...  Â£22.60   \n",
              "9                                    The Black Maria  Â£52.15   \n",
              "\n",
              "                                             Url_img  \\\n",
              "0  https://books.toscrape.com/media/cache/fe/72/f...   \n",
              "1  https://books.toscrape.com/media/cache/08/e9/0...   \n",
              "2  https://books.toscrape.com/media/cache/ee/cf/e...   \n",
              "3  https://books.toscrape.com/media/cache/c0/59/c...   \n",
              "4  https://books.toscrape.com/media/cache/ce/5f/c...   \n",
              "5  https://books.toscrape.com/media/cache/6b/07/6...   \n",
              "6  https://books.toscrape.com/media/cache/e1/1b/e...   \n",
              "7  https://books.toscrape.com/media/cache/97/36/9...   \n",
              "8  https://books.toscrape.com/media/cache/d1/2d/d...   \n",
              "9  https://books.toscrape.com/media/cache/d1/7a/d...   \n",
              "\n",
              "                                             Vis_img  \n",
              "0  <img src = \"https://books.toscrape.com/media/c...  \n",
              "1  <img src = \"https://books.toscrape.com/media/c...  \n",
              "2  <img src = \"https://books.toscrape.com/media/c...  \n",
              "3  <img src = \"https://books.toscrape.com/media/c...  \n",
              "4  <img src = \"https://books.toscrape.com/media/c...  \n",
              "5  <img src = \"https://books.toscrape.com/media/c...  \n",
              "6  <img src = \"https://books.toscrape.com/media/c...  \n",
              "7  <img src = \"https://books.toscrape.com/media/c...  \n",
              "8  <img src = \"https://books.toscrape.com/media/c...  \n",
              "9  <img src = \"https://books.toscrape.com/media/c...  "
            ],
            "text/html": [
              "\n",
              "  <div id=\"df-3c27ff33-c766-4400-a984-97807b498c5a\">\n",
              "    <div class=\"colab-df-container\">\n",
              "      <div>\n",
              "<style scoped>\n",
              "    .dataframe tbody tr th:only-of-type {\n",
              "        vertical-align: middle;\n",
              "    }\n",
              "\n",
              "    .dataframe tbody tr th {\n",
              "        vertical-align: top;\n",
              "    }\n",
              "\n",
              "    .dataframe thead th {\n",
              "        text-align: right;\n",
              "    }\n",
              "</style>\n",
              "<table border=\"1\" class=\"dataframe\">\n",
              "  <thead>\n",
              "    <tr style=\"text-align: right;\">\n",
              "      <th></th>\n",
              "      <th>Titulo</th>\n",
              "      <th>Precio</th>\n",
              "      <th>Url_img</th>\n",
              "      <th>Vis_img</th>\n",
              "    </tr>\n",
              "  </thead>\n",
              "  <tbody>\n",
              "    <tr>\n",
              "      <th>0</th>\n",
              "      <td>A Light in the Attic</td>\n",
              "      <td>Â£51.77</td>\n",
              "      <td>https://books.toscrape.com/media/cache/fe/72/f...</td>\n",
              "      <td>&lt;img src = \"https://books.toscrape.com/media/c...</td>\n",
              "    </tr>\n",
              "    <tr>\n",
              "      <th>1</th>\n",
              "      <td>Tipping the Velvet</td>\n",
              "      <td>Â£53.74</td>\n",
              "      <td>https://books.toscrape.com/media/cache/08/e9/0...</td>\n",
              "      <td>&lt;img src = \"https://books.toscrape.com/media/c...</td>\n",
              "    </tr>\n",
              "    <tr>\n",
              "      <th>2</th>\n",
              "      <td>Soumission</td>\n",
              "      <td>Â£50.10</td>\n",
              "      <td>https://books.toscrape.com/media/cache/ee/cf/e...</td>\n",
              "      <td>&lt;img src = \"https://books.toscrape.com/media/c...</td>\n",
              "    </tr>\n",
              "    <tr>\n",
              "      <th>3</th>\n",
              "      <td>Sharp Objects</td>\n",
              "      <td>Â£47.82</td>\n",
              "      <td>https://books.toscrape.com/media/cache/c0/59/c...</td>\n",
              "      <td>&lt;img src = \"https://books.toscrape.com/media/c...</td>\n",
              "    </tr>\n",
              "    <tr>\n",
              "      <th>4</th>\n",
              "      <td>Sapiens: A Brief History of Humankind</td>\n",
              "      <td>Â£54.23</td>\n",
              "      <td>https://books.toscrape.com/media/cache/ce/5f/c...</td>\n",
              "      <td>&lt;img src = \"https://books.toscrape.com/media/c...</td>\n",
              "    </tr>\n",
              "    <tr>\n",
              "      <th>5</th>\n",
              "      <td>The Requiem Red</td>\n",
              "      <td>Â£22.65</td>\n",
              "      <td>https://books.toscrape.com/media/cache/6b/07/6...</td>\n",
              "      <td>&lt;img src = \"https://books.toscrape.com/media/c...</td>\n",
              "    </tr>\n",
              "    <tr>\n",
              "      <th>6</th>\n",
              "      <td>The Dirty Little Secrets of Getting Your Dream...</td>\n",
              "      <td>Â£33.34</td>\n",
              "      <td>https://books.toscrape.com/media/cache/e1/1b/e...</td>\n",
              "      <td>&lt;img src = \"https://books.toscrape.com/media/c...</td>\n",
              "    </tr>\n",
              "    <tr>\n",
              "      <th>7</th>\n",
              "      <td>The Coming Woman: A Novel Based on the Life of...</td>\n",
              "      <td>Â£17.93</td>\n",
              "      <td>https://books.toscrape.com/media/cache/97/36/9...</td>\n",
              "      <td>&lt;img src = \"https://books.toscrape.com/media/c...</td>\n",
              "    </tr>\n",
              "    <tr>\n",
              "      <th>8</th>\n",
              "      <td>The Boys in the Boat: Nine Americans and Their...</td>\n",
              "      <td>Â£22.60</td>\n",
              "      <td>https://books.toscrape.com/media/cache/d1/2d/d...</td>\n",
              "      <td>&lt;img src = \"https://books.toscrape.com/media/c...</td>\n",
              "    </tr>\n",
              "    <tr>\n",
              "      <th>9</th>\n",
              "      <td>The Black Maria</td>\n",
              "      <td>Â£52.15</td>\n",
              "      <td>https://books.toscrape.com/media/cache/d1/7a/d...</td>\n",
              "      <td>&lt;img src = \"https://books.toscrape.com/media/c...</td>\n",
              "    </tr>\n",
              "  </tbody>\n",
              "</table>\n",
              "</div>\n",
              "      <button class=\"colab-df-convert\" onclick=\"convertToInteractive('df-3c27ff33-c766-4400-a984-97807b498c5a')\"\n",
              "              title=\"Convert this dataframe to an interactive table.\"\n",
              "              style=\"display:none;\">\n",
              "        \n",
              "  <svg xmlns=\"http://www.w3.org/2000/svg\" height=\"24px\"viewBox=\"0 0 24 24\"\n",
              "       width=\"24px\">\n",
              "    <path d=\"M0 0h24v24H0V0z\" fill=\"none\"/>\n",
              "    <path d=\"M18.56 5.44l.94 2.06.94-2.06 2.06-.94-2.06-.94-.94-2.06-.94 2.06-2.06.94zm-11 1L8.5 8.5l.94-2.06 2.06-.94-2.06-.94L8.5 2.5l-.94 2.06-2.06.94zm10 10l.94 2.06.94-2.06 2.06-.94-2.06-.94-.94-2.06-.94 2.06-2.06.94z\"/><path d=\"M17.41 7.96l-1.37-1.37c-.4-.4-.92-.59-1.43-.59-.52 0-1.04.2-1.43.59L10.3 9.45l-7.72 7.72c-.78.78-.78 2.05 0 2.83L4 21.41c.39.39.9.59 1.41.59.51 0 1.02-.2 1.41-.59l7.78-7.78 2.81-2.81c.8-.78.8-2.07 0-2.86zM5.41 20L4 18.59l7.72-7.72 1.47 1.35L5.41 20z\"/>\n",
              "  </svg>\n",
              "      </button>\n",
              "      \n",
              "  <style>\n",
              "    .colab-df-container {\n",
              "      display:flex;\n",
              "      flex-wrap:wrap;\n",
              "      gap: 12px;\n",
              "    }\n",
              "\n",
              "    .colab-df-convert {\n",
              "      background-color: #E8F0FE;\n",
              "      border: none;\n",
              "      border-radius: 50%;\n",
              "      cursor: pointer;\n",
              "      display: none;\n",
              "      fill: #1967D2;\n",
              "      height: 32px;\n",
              "      padding: 0 0 0 0;\n",
              "      width: 32px;\n",
              "    }\n",
              "\n",
              "    .colab-df-convert:hover {\n",
              "      background-color: #E2EBFA;\n",
              "      box-shadow: 0px 1px 2px rgba(60, 64, 67, 0.3), 0px 1px 3px 1px rgba(60, 64, 67, 0.15);\n",
              "      fill: #174EA6;\n",
              "    }\n",
              "\n",
              "    [theme=dark] .colab-df-convert {\n",
              "      background-color: #3B4455;\n",
              "      fill: #D2E3FC;\n",
              "    }\n",
              "\n",
              "    [theme=dark] .colab-df-convert:hover {\n",
              "      background-color: #434B5C;\n",
              "      box-shadow: 0px 1px 3px 1px rgba(0, 0, 0, 0.15);\n",
              "      filter: drop-shadow(0px 1px 2px rgba(0, 0, 0, 0.3));\n",
              "      fill: #FFFFFF;\n",
              "    }\n",
              "  </style>\n",
              "\n",
              "      <script>\n",
              "        const buttonEl =\n",
              "          document.querySelector('#df-3c27ff33-c766-4400-a984-97807b498c5a button.colab-df-convert');\n",
              "        buttonEl.style.display =\n",
              "          google.colab.kernel.accessAllowed ? 'block' : 'none';\n",
              "\n",
              "        async function convertToInteractive(key) {\n",
              "          const element = document.querySelector('#df-3c27ff33-c766-4400-a984-97807b498c5a');\n",
              "          const dataTable =\n",
              "            await google.colab.kernel.invokeFunction('convertToInteractive',\n",
              "                                                     [key], {});\n",
              "          if (!dataTable) return;\n",
              "\n",
              "          const docLinkHtml = 'Like what you see? Visit the ' +\n",
              "            '<a target=\"_blank\" href=https://colab.research.google.com/notebooks/data_table.ipynb>data table notebook</a>'\n",
              "            + ' to learn more about interactive tables.';\n",
              "          element.innerHTML = '';\n",
              "          dataTable['output_type'] = 'display_data';\n",
              "          await google.colab.output.renderOutput(dataTable, element);\n",
              "          const docLink = document.createElement('div');\n",
              "          docLink.innerHTML = docLinkHtml;\n",
              "          element.appendChild(docLink);\n",
              "        }\n",
              "      </script>\n",
              "    </div>\n",
              "  </div>\n",
              "  "
            ]
          },
          "metadata": {},
          "execution_count": 89
        }
      ]
    },
    {
      "cell_type": "code",
      "source": [
        "HTML(df_catalogo.to_html(escape=False, formatters=dict(Portada=path_html_img)))"
      ],
      "metadata": {
        "colab": {
          "base_uri": "https://localhost:8080/",
          "height": 1000
        },
        "id": "hKc4srQ5UhX1",
        "outputId": "de325673-4416-4622-d93a-d693c1bfa67a"
      },
      "execution_count": 90,
      "outputs": [
        {
          "output_type": "execute_result",
          "data": {
            "text/plain": [
              "<IPython.core.display.HTML object>"
            ],
            "text/html": [
              "<table border=\"1\" class=\"dataframe\">\n",
              "  <thead>\n",
              "    <tr style=\"text-align: right;\">\n",
              "      <th></th>\n",
              "      <th>Titulo</th>\n",
              "      <th>Precio</th>\n",
              "      <th>Url_img</th>\n",
              "      <th>Vis_img</th>\n",
              "    </tr>\n",
              "  </thead>\n",
              "  <tbody>\n",
              "    <tr>\n",
              "      <th>0</th>\n",
              "      <td>A Light in the Attic</td>\n",
              "      <td>Â£51.77</td>\n",
              "      <td>https://books.toscrape.com/media/cache/fe/72/fe72f0532301ec28892ae79a629a293c.jpg</td>\n",
              "      <td><img src = \"https://books.toscrape.com/media/cache/fe/72/fe72f0532301ec28892ae79a629a293c.jpg\"width=\"60\"></td>\n",
              "    </tr>\n",
              "    <tr>\n",
              "      <th>1</th>\n",
              "      <td>Tipping the Velvet</td>\n",
              "      <td>Â£53.74</td>\n",
              "      <td>https://books.toscrape.com/media/cache/08/e9/08e94f3731d7d6b760dfbfbc02ca5c62.jpg</td>\n",
              "      <td><img src = \"https://books.toscrape.com/media/cache/08/e9/08e94f3731d7d6b760dfbfbc02ca5c62.jpg\"width=\"60\"></td>\n",
              "    </tr>\n",
              "    <tr>\n",
              "      <th>2</th>\n",
              "      <td>Soumission</td>\n",
              "      <td>Â£50.10</td>\n",
              "      <td>https://books.toscrape.com/media/cache/ee/cf/eecfe998905e455df12064dba399c075.jpg</td>\n",
              "      <td><img src = \"https://books.toscrape.com/media/cache/ee/cf/eecfe998905e455df12064dba399c075.jpg\"width=\"60\"></td>\n",
              "    </tr>\n",
              "    <tr>\n",
              "      <th>3</th>\n",
              "      <td>Sharp Objects</td>\n",
              "      <td>Â£47.82</td>\n",
              "      <td>https://books.toscrape.com/media/cache/c0/59/c05972805aa7201171b8fc71a5b00292.jpg</td>\n",
              "      <td><img src = \"https://books.toscrape.com/media/cache/c0/59/c05972805aa7201171b8fc71a5b00292.jpg\"width=\"60\"></td>\n",
              "    </tr>\n",
              "    <tr>\n",
              "      <th>4</th>\n",
              "      <td>Sapiens: A Brief History of Humankind</td>\n",
              "      <td>Â£54.23</td>\n",
              "      <td>https://books.toscrape.com/media/cache/ce/5f/ce5f052c65cc963cf4422be096e915c9.jpg</td>\n",
              "      <td><img src = \"https://books.toscrape.com/media/cache/ce/5f/ce5f052c65cc963cf4422be096e915c9.jpg\"width=\"60\"></td>\n",
              "    </tr>\n",
              "    <tr>\n",
              "      <th>5</th>\n",
              "      <td>The Requiem Red</td>\n",
              "      <td>Â£22.65</td>\n",
              "      <td>https://books.toscrape.com/media/cache/6b/07/6b07b77236b7c80f42bd90bf325e69f6.jpg</td>\n",
              "      <td><img src = \"https://books.toscrape.com/media/cache/6b/07/6b07b77236b7c80f42bd90bf325e69f6.jpg\"width=\"60\"></td>\n",
              "    </tr>\n",
              "    <tr>\n",
              "      <th>6</th>\n",
              "      <td>The Dirty Little Secrets of Getting Your Dream Job</td>\n",
              "      <td>Â£33.34</td>\n",
              "      <td>https://books.toscrape.com/media/cache/e1/1b/e11bea016d0ae1d7e2dd46fb3cb870b7.jpg</td>\n",
              "      <td><img src = \"https://books.toscrape.com/media/cache/e1/1b/e11bea016d0ae1d7e2dd46fb3cb870b7.jpg\"width=\"60\"></td>\n",
              "    </tr>\n",
              "    <tr>\n",
              "      <th>7</th>\n",
              "      <td>The Coming Woman: A Novel Based on the Life of the Infamous Feminist, Victoria Woodhull</td>\n",
              "      <td>Â£17.93</td>\n",
              "      <td>https://books.toscrape.com/media/cache/97/36/9736132a43b8e6e3989932218ef309ed.jpg</td>\n",
              "      <td><img src = \"https://books.toscrape.com/media/cache/97/36/9736132a43b8e6e3989932218ef309ed.jpg\"width=\"60\"></td>\n",
              "    </tr>\n",
              "    <tr>\n",
              "      <th>8</th>\n",
              "      <td>The Boys in the Boat: Nine Americans and Their Epic Quest for Gold at the 1936 Berlin Olympics</td>\n",
              "      <td>Â£22.60</td>\n",
              "      <td>https://books.toscrape.com/media/cache/d1/2d/d12d26739b5369a6b5b3024e4d08f907.jpg</td>\n",
              "      <td><img src = \"https://books.toscrape.com/media/cache/d1/2d/d12d26739b5369a6b5b3024e4d08f907.jpg\"width=\"60\"></td>\n",
              "    </tr>\n",
              "    <tr>\n",
              "      <th>9</th>\n",
              "      <td>The Black Maria</td>\n",
              "      <td>Â£52.15</td>\n",
              "      <td>https://books.toscrape.com/media/cache/d1/7a/d17a3e313e52e1be5651719e4fba1d16.jpg</td>\n",
              "      <td><img src = \"https://books.toscrape.com/media/cache/d1/7a/d17a3e313e52e1be5651719e4fba1d16.jpg\"width=\"60\"></td>\n",
              "    </tr>\n",
              "  </tbody>\n",
              "</table>"
            ]
          },
          "metadata": {},
          "execution_count": 90
        }
      ]
    }
  ]
}